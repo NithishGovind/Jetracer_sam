{
 "cells": [
  {
   "cell_type": "code",
   "execution_count": 1,
   "id": "1cc16b6c",
   "metadata": {},
   "outputs": [],
   "source": [
    "from jetcam.csi_camera import CSICamera\n",
    "# Initialize the camera\n",
    "camera = CSICamera(width=224, height=224)"
   ]
  },
  {
   "cell_type": "code",
   "execution_count": 2,
   "id": "587128e8",
   "metadata": {},
   "outputs": [],
   "source": [
    "camera.running = True\n",
    "#hello"
   ]
  },
  {
   "cell_type": "code",
   "execution_count": null,
   "id": "4d5d3665",
   "metadata": {},
   "outputs": [],
   "source": []
  },
  {
   "cell_type": "code",
   "execution_count": 3,
   "id": "b607a6e9",
   "metadata": {},
   "outputs": [],
   "source": [
    "import ipywidgets\n",
    "import traitlets\n",
    "from IPython.display import display\n",
    "from jetcam.utils import bgr8_to_jpeg\n",
    "import cv2\n",
    "import numpy as np"
   ]
  },
  {
   "cell_type": "code",
   "execution_count": 4,
   "id": "97de75b5",
   "metadata": {},
   "outputs": [
    {
     "data": {
      "application/vnd.jupyter.widget-view+json": {
       "model_id": "25890fa5b83048b7b46fe474733e8985",
       "version_major": 2,
       "version_minor": 0
      },
      "text/plain": [
       "Image(value=b'\\xff\\xd8\\xff\\xe0\\x00\\x10JFIF\\x00\\x01\\x01\\x00\\x00\\x01\\x00\\x01\\x00\\x00\\xff\\xdb\\x00C\\x00\\x02\\x01\\x0…"
      ]
     },
     "metadata": {},
     "output_type": "display_data"
    }
   ],
   "source": [
    "# Create image preview widget\n",
    "camera_widget = ipywidgets.Image(width=camera.width, height=camera.height)\n",
    "\n",
    "# Link camera value to image widget\n",
    "traitlets.dlink((camera, 'value'), (camera_widget, 'value'), transform=bgr8_to_jpeg)\n",
    "\n",
    "# Display the camera widget\n",
    "display(camera_widget)\n"
   ]
  },
  {
   "cell_type": "code",
   "execution_count": 20,
   "id": "de78344b",
   "metadata": {},
   "outputs": [],
   "source": [
    "# # Define the HSV range for the yellow color\n",
    "# LOWER_YELLOW_HSV = np.array([11, 125, 50])\n",
    "# UPPER_YELLOW_HSV = np.array([20, 255, 173])\n",
    "\n",
    "# Define the HSV range for the yellow color\n",
    "LOWER_YELLOW_HSV = np.array([11, 80, 87])\n",
    "UPPER_YELLOW_HSV = np.array([22, 136, 182])\n",
    "\n",
    "# Smoothing factor for center point calculation\n",
    "ALPHA = 0.2\n",
    "\n",
    "# Initialize previous center point\n",
    "prev_center = None"
   ]
  },
  {
   "cell_type": "code",
   "execution_count": 25,
   "id": "543883a7",
   "metadata": {},
   "outputs": [],
   "source": [
    "def process_frame(frame):\n",
    "    global prev_center\n",
    "\n",
    "    # Convert frame to HSV color space\n",
    "    hsv = cv2.cvtColor(frame, cv2.COLOR_BGR2HSV)\n",
    "\n",
    "    # Threshold the HSV image to get only yellow colors\n",
    "    yellow_mask = cv2.inRange(hsv, LOWER_YELLOW_HSV, UPPER_YELLOW_HSV)\n",
    "\n",
    "    # Apply Gaussian blur to smooth the mask\n",
    "    blurred = cv2.GaussianBlur(yellow_mask, (5, 5), 0)\n",
    "\n",
    "    # Define the region of interest (ROI)\n",
    "    height, width, _ = frame.shape\n",
    "    roi_vertices = [\n",
    "        (0, height),\n",
    "        (0, height // 2),\n",
    "        (width, height // 2),\n",
    "        (width, height)\n",
    "    ]\n",
    "    mask = np.zeros_like(blurred)\n",
    "    cv2.fillPoly(mask, np.array([roi_vertices], np.int32), 255)\n",
    "    masked_blurred = cv2.bitwise_and(blurred, mask)\n",
    "\n",
    "    # Edge detection using Canny\n",
    "    edges = cv2.Canny(masked_blurred, 50, 150)\n",
    "\n",
    "    # Hough Line Transform to detect lines\n",
    "    lines = cv2.HoughLinesP(edges, 1, np.pi / 180, threshold=10, minLineLength=50, maxLineGap=20)\n",
    "\n",
    "    # Create a blank image with the same dimensions as the original frame\n",
    "    lane_image = np.copy(frame)\n",
    "\n",
    "    # Initialize lists to store the coordinates of the leftmost and rightmost lines\n",
    "    left_lines = []\n",
    "    right_lines = []\n",
    "\n",
    "    # Initialize center coordinates\n",
    "    center_x = None\n",
    "    center_y = None\n",
    "\n",
    "    # Draw the lines on the blank image and store the leftmost and rightmost lines\n",
    "    if lines is not None:\n",
    "        for line in lines:\n",
    "            for x1, y1, x2, y2 in line:\n",
    "                if y1 > height // 2 and y2 > height // 2:  # Filter lines in the ROI\n",
    "                    if x1 < width // 2 and x2 < width // 2:\n",
    "                        left_lines.append((x1, y1, x2, y2))\n",
    "                    elif x1 > width // 2 and x2 > width // 2:\n",
    "                        right_lines.append((x1, y1, x2, y2))\n",
    "\n",
    "    # Draw the leftmost line\n",
    "    if left_lines:\n",
    "        left_line = sorted(left_lines, key=lambda line: line[0])[0]\n",
    "        cv2.line(lane_image, (left_line[0], left_line[1]), (left_line[2], left_line[3]), (0, 255, 0), 5)\n",
    "\n",
    "    # Draw the rightmost line\n",
    "    if right_lines:\n",
    "        right_line = sorted(right_lines, key=lambda line: line[0])[-1]\n",
    "        cv2.line(lane_image, (right_line[0], right_line[1]), (right_line[2], right_line[3]), (0, 255, 0), 5)\n",
    "\n",
    "    # Fill the area between the leftmost and rightmost lines\n",
    "    if left_lines and right_lines:\n",
    "        pts = np.array([\n",
    "            [left_line[0], left_line[1]],\n",
    "            [left_line[2], left_line[3]],\n",
    "            [right_line[2], right_line[3]],\n",
    "            [right_line[0], right_line[1]]\n",
    "        ])\n",
    "        cv2.fillPoly(lane_image, [pts], (0, 255, 0))\n",
    "\n",
    "        # Calculate the center point between the two lines\n",
    "        center_x = (left_line[0] + left_line[2] + right_line[0] + right_line[2]) // 4\n",
    "        center_y = (left_line[1] + left_line[3] + right_line[1] + right_line[3]) // 4\n",
    "\n",
    "        # Smoothing the center point\n",
    "        if prev_center is not None:\n",
    "            center_x = int(ALPHA * center_x + (1 - ALPHA) * prev_center[0])\n",
    "            center_y = int(ALPHA * center_y + (1 - ALPHA) * prev_center[1])\n",
    "\n",
    "        # Update previous center point\n",
    "        prev_center = (center_x, center_y)\n",
    "\n",
    "        # Ensure the center point is within the ROI\n",
    "        if center_y > height // 2:\n",
    "            # Draw a circle at the center point\n",
    "            cv2.circle(lane_image, (center_x, height//2), 15, (0, 0, 255), -1)\n",
    "        cv2.line(lane_image,(0,height//2), (width,height//2),(255,0,0),2)\n",
    "        cv2.line(lane_image, (width // 2, 0), (width // 2, height), (255, 0, 0), 2)\n",
    "\n",
    "\n",
    "    return lane_image, [center_x, center_y]"
   ]
  },
  {
   "cell_type": "code",
   "execution_count": 7,
   "id": "14015239",
   "metadata": {},
   "outputs": [],
   "source": [
    "def map_value(value, from_low, from_high, to_low, to_high):\n",
    "    # Calculate the mapped value\n",
    "    if value == None:\n",
    "        return None\n",
    "    mapped_value = (value - from_low) * (to_high - to_low) / (from_high - from_low) + to_low\n",
    "    return mapped_value"
   ]
  },
  {
   "cell_type": "code",
   "execution_count": 8,
   "id": "ab179ac3",
   "metadata": {},
   "outputs": [],
   "source": [
    "# This function will be called whenever the camera captures a new frame\n",
    "def update_frame(change):\n",
    "#     print(\"hello\")\n",
    "    frame = change['new']\n",
    "    processed_frame,a = process_frame(frame)\n",
    "#     b = map_value(a[0],0,224,-1,1)\n",
    "#     print(b)\n",
    "    camera_widget.value = bgr8_to_jpeg(processed_frame)"
   ]
  },
  {
   "cell_type": "code",
   "execution_count": 9,
   "id": "e65be555",
   "metadata": {},
   "outputs": [],
   "source": [
    "# Attach the update_frame function to the camera\n",
    "camera.observe(update_frame, names='value')"
   ]
  },
  {
   "cell_type": "code",
   "execution_count": null,
   "id": "4642707c",
   "metadata": {},
   "outputs": [],
   "source": []
  },
  {
   "cell_type": "code",
   "execution_count": null,
   "id": "fff0c5c4",
   "metadata": {},
   "outputs": [],
   "source": []
  }
 ],
 "metadata": {
  "kernelspec": {
   "display_name": "Python 3",
   "language": "python",
   "name": "python3"
  },
  "language_info": {
   "codemirror_mode": {
    "name": "ipython",
    "version": 3
   },
   "file_extension": ".py",
   "mimetype": "text/x-python",
   "name": "python",
   "nbconvert_exporter": "python",
   "pygments_lexer": "ipython3",
   "version": "3.6.9"
  }
 },
 "nbformat": 4,
 "nbformat_minor": 5
}
